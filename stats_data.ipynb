{
 "cells": [
  {
   "cell_type": "code",
   "execution_count": 1,
   "metadata": {},
   "outputs": [],
   "source": [
    "from basketball_reference_web_scraper import client\n",
    "import csv"
   ]
  },
  {
   "cell_type": "code",
   "execution_count": 2,
   "metadata": {},
   "outputs": [],
   "source": [
    "stats_2007 = client.players_season_totals(season_end_year=2007)\n",
    "csv_columns = ['attempted_three_point_field_goals', 'blocks', 'slug', 'personal_fouls',\n",
    "               'made_three_point_field_goals', 'attempted_field_goals', 'made_free_throws',\n",
    "               'name', 'minutes_played', 'turnovers', 'positions', 'made_field_goals', 'games_started',\n",
    "               'age', 'steals', 'team', 'points', 'attempted_free_throws',\n",
    "               'games_played', 'assists', 'offensive_rebounds', 'defensive_rebounds']\n",
    "\n",
    "csv_file = \"stats_2007.csv\"\n",
    "try:\n",
    "    with open(csv_file, 'w') as csvfile:\n",
    "        writer = csv.DictWriter(csvfile, fieldnames = csv_columns)\n",
    "        writer.writeheader()\n",
    "        for data in stats_2007:\n",
    "            writer.writerow(data)\n",
    "except IOError:\n",
    "    print(\"I/O error\")"
   ]
  },
  {
   "cell_type": "code",
   "execution_count": 3,
   "metadata": {},
   "outputs": [],
   "source": [
    "stats_2008 = client.players_season_totals(season_end_year=2008)\n",
    "csv_columns = ['attempted_three_point_field_goals', 'blocks', 'slug', 'personal_fouls',\n",
    "               'made_three_point_field_goals', 'attempted_field_goals', 'made_free_throws',\n",
    "               'name', 'minutes_played', 'turnovers', 'positions', 'made_field_goals', 'games_started',\n",
    "               'age', 'steals', 'team', 'points', 'attempted_free_throws',\n",
    "               'games_played', 'assists', 'offensive_rebounds', 'defensive_rebounds']\n",
    "\n",
    "csv_file = \"stats_2008.csv\"\n",
    "try:\n",
    "    with open(csv_file, 'w') as csvfile:\n",
    "        writer = csv.DictWriter(csvfile, fieldnames = csv_columns)\n",
    "        writer.writeheader()\n",
    "        for data in stats_2008:\n",
    "            writer.writerow(data)\n",
    "except IOError:\n",
    "    print(\"I/O error\")"
   ]
  },
  {
   "cell_type": "code",
   "execution_count": 4,
   "metadata": {},
   "outputs": [],
   "source": [
    "stats_2009 = client.players_season_totals(season_end_year=2009)\n",
    "csv_columns = ['attempted_three_point_field_goals', 'blocks', 'slug', 'personal_fouls',\n",
    "               'made_three_point_field_goals', 'attempted_field_goals', 'made_free_throws',\n",
    "               'name', 'minutes_played', 'turnovers', 'positions', 'made_field_goals', 'games_started',\n",
    "               'age', 'steals', 'team', 'points', 'attempted_free_throws',\n",
    "               'games_played', 'assists', 'offensive_rebounds', 'defensive_rebounds']\n",
    "\n",
    "csv_file = \"stats_2009.csv\"\n",
    "try:\n",
    "    with open(csv_file, 'w') as csvfile:\n",
    "        writer = csv.DictWriter(csvfile, fieldnames = csv_columns)\n",
    "        writer.writeheader()\n",
    "        for data in stats_2009:\n",
    "            writer.writerow(data)\n",
    "except IOError:\n",
    "    print(\"I/O error\")"
   ]
  },
  {
   "cell_type": "code",
   "execution_count": 5,
   "metadata": {},
   "outputs": [],
   "source": [
    "stats_2010 = client.players_season_totals(season_end_year=2010)\n",
    "csv_columns = ['attempted_three_point_field_goals', 'blocks', 'slug', 'personal_fouls',\n",
    "               'made_three_point_field_goals', 'attempted_field_goals', 'made_free_throws',\n",
    "               'name', 'minutes_played', 'turnovers', 'positions', 'made_field_goals', 'games_started',\n",
    "               'age', 'steals', 'team', 'points', 'attempted_free_throws',\n",
    "               'games_played', 'assists', 'offensive_rebounds', 'defensive_rebounds']\n",
    "\n",
    "csv_file = \"stats_2010.csv\"\n",
    "try:\n",
    "    with open(csv_file, 'w') as csvfile:\n",
    "        writer = csv.DictWriter(csvfile, fieldnames = csv_columns)\n",
    "        writer.writeheader()\n",
    "        for data in stats_2010:\n",
    "            writer.writerow(data)\n",
    "except IOError:\n",
    "    print(\"I/O error\")"
   ]
  },
  {
   "cell_type": "code",
   "execution_count": 6,
   "metadata": {},
   "outputs": [],
   "source": [
    "stats_2011 = client.players_season_totals(season_end_year=2011)\n",
    "csv_columns = ['attempted_three_point_field_goals', 'blocks', 'slug', 'personal_fouls',\n",
    "               'made_three_point_field_goals', 'attempted_field_goals', 'made_free_throws',\n",
    "               'name', 'minutes_played', 'turnovers', 'positions', 'made_field_goals', 'games_started',\n",
    "               'age', 'steals', 'team', 'points', 'attempted_free_throws',\n",
    "               'games_played', 'assists', 'offensive_rebounds', 'defensive_rebounds']\n",
    "\n",
    "csv_file = \"stats_2011.csv\"\n",
    "try:\n",
    "    with open(csv_file, 'w') as csvfile:\n",
    "        writer = csv.DictWriter(csvfile, fieldnames = csv_columns)\n",
    "        writer.writeheader()\n",
    "        for data in stats_2011:\n",
    "            writer.writerow(data)\n",
    "except IOError:\n",
    "    print(\"I/O error\")"
   ]
  },
  {
   "cell_type": "code",
   "execution_count": 7,
   "metadata": {},
   "outputs": [],
   "source": [
    "stats_2012 = client.players_season_totals(season_end_year=2012)\n",
    "csv_columns = ['attempted_three_point_field_goals', 'blocks', 'slug', 'personal_fouls',\n",
    "               'made_three_point_field_goals', 'attempted_field_goals', 'made_free_throws',\n",
    "               'name', 'minutes_played', 'turnovers', 'positions', 'made_field_goals', 'games_started',\n",
    "               'age', 'steals', 'team', 'points', 'attempted_free_throws',\n",
    "               'games_played', 'assists', 'offensive_rebounds', 'defensive_rebounds']\n",
    "\n",
    "csv_file = \"stats_2012.csv\"\n",
    "try:\n",
    "    with open(csv_file, 'w') as csvfile:\n",
    "        writer = csv.DictWriter(csvfile, fieldnames = csv_columns)\n",
    "        writer.writeheader()\n",
    "        for data in stats_2012:\n",
    "            writer.writerow(data)\n",
    "except IOError:\n",
    "    print(\"I/O error\")"
   ]
  },
  {
   "cell_type": "code",
   "execution_count": 8,
   "metadata": {},
   "outputs": [],
   "source": [
    "stats_2013 = client.players_season_totals(season_end_year=2013)\n",
    "csv_columns = ['attempted_three_point_field_goals', 'blocks', 'slug', 'personal_fouls',\n",
    "               'made_three_point_field_goals', 'attempted_field_goals', 'made_free_throws',\n",
    "               'name', 'minutes_played', 'turnovers', 'positions', 'made_field_goals', 'games_started',\n",
    "               'age', 'steals', 'team', 'points', 'attempted_free_throws',\n",
    "               'games_played', 'assists', 'offensive_rebounds', 'defensive_rebounds']\n",
    "\n",
    "csv_file = \"stats_2013.csv\"\n",
    "try:\n",
    "    with open(csv_file, 'w') as csvfile:\n",
    "        writer = csv.DictWriter(csvfile, fieldnames = csv_columns)\n",
    "        writer.writeheader()\n",
    "        for data in stats_2013:\n",
    "            writer.writerow(data)\n",
    "except IOError:\n",
    "    print(\"I/O error\")"
   ]
  },
  {
   "cell_type": "code",
   "execution_count": 9,
   "metadata": {},
   "outputs": [],
   "source": [
    "stats_2014 = client.players_season_totals(season_end_year=2014)\n",
    "csv_columns = ['attempted_three_point_field_goals', 'blocks', 'slug', 'personal_fouls',\n",
    "               'made_three_point_field_goals', 'attempted_field_goals', 'made_free_throws',\n",
    "               'name', 'minutes_played', 'turnovers', 'positions', 'made_field_goals', 'games_started',\n",
    "               'age', 'steals', 'team', 'points', 'attempted_free_throws',\n",
    "               'games_played', 'assists', 'offensive_rebounds', 'defensive_rebounds']\n",
    "\n",
    "csv_file = \"stats_2014.csv\"\n",
    "try:\n",
    "    with open(csv_file, 'w') as csvfile:\n",
    "        writer = csv.DictWriter(csvfile, fieldnames = csv_columns)\n",
    "        writer.writeheader()\n",
    "        for data in stats_2014:\n",
    "            writer.writerow(data)\n",
    "except IOError:\n",
    "    print(\"I/O error\")"
   ]
  },
  {
   "cell_type": "code",
   "execution_count": 10,
   "metadata": {},
   "outputs": [],
   "source": [
    "stats_2015 = client.players_season_totals(season_end_year=2015)\n",
    "csv_columns = ['attempted_three_point_field_goals', 'blocks', 'slug', 'personal_fouls',\n",
    "               'made_three_point_field_goals', 'attempted_field_goals', 'made_free_throws',\n",
    "               'name', 'minutes_played', 'turnovers', 'positions', 'made_field_goals', 'games_started',\n",
    "               'age', 'steals', 'team', 'points', 'attempted_free_throws',\n",
    "               'games_played', 'assists', 'offensive_rebounds', 'defensive_rebounds']\n",
    "\n",
    "csv_file = \"stats_2015.csv\"\n",
    "try:\n",
    "    with open(csv_file, 'w') as csvfile:\n",
    "        writer = csv.DictWriter(csvfile, fieldnames = csv_columns)\n",
    "        writer.writeheader()\n",
    "        for data in stats_2015:\n",
    "            writer.writerow(data)\n",
    "except IOError:\n",
    "    print(\"I/O error\")"
   ]
  },
  {
   "cell_type": "code",
   "execution_count": 11,
   "metadata": {},
   "outputs": [],
   "source": [
    "stats_2016 = client.players_season_totals(season_end_year=2016)\n",
    "csv_columns = ['attempted_three_point_field_goals', 'blocks', 'slug', 'personal_fouls',\n",
    "               'made_three_point_field_goals', 'attempted_field_goals', 'made_free_throws',\n",
    "               'name', 'minutes_played', 'turnovers', 'positions', 'made_field_goals', 'games_started',\n",
    "               'age', 'steals', 'team', 'points', 'attempted_free_throws',\n",
    "               'games_played', 'assists', 'offensive_rebounds', 'defensive_rebounds']\n",
    "\n",
    "csv_file = \"stats_2016.csv\"\n",
    "try:\n",
    "    with open(csv_file, 'w') as csvfile:\n",
    "        writer = csv.DictWriter(csvfile, fieldnames = csv_columns)\n",
    "        writer.writeheader()\n",
    "        for data in stats_2016:\n",
    "            writer.writerow(data)\n",
    "except IOError:\n",
    "    print(\"I/O error\")"
   ]
  },
  {
   "cell_type": "code",
   "execution_count": 12,
   "metadata": {},
   "outputs": [],
   "source": [
    "stats_2017 = client.players_season_totals(season_end_year=2017)\n",
    "csv_columns = ['attempted_three_point_field_goals', 'blocks', 'slug', 'personal_fouls',\n",
    "               'made_three_point_field_goals', 'attempted_field_goals', 'made_free_throws',\n",
    "               'name', 'minutes_played', 'turnovers', 'positions', 'made_field_goals', 'games_started',\n",
    "               'age', 'steals', 'team', 'points', 'attempted_free_throws',\n",
    "               'games_played', 'assists', 'offensive_rebounds', 'defensive_rebounds']\n",
    "\n",
    "csv_file = \"stats_2017.csv\"\n",
    "try:\n",
    "    with open(csv_file, 'w') as csvfile:\n",
    "        writer = csv.DictWriter(csvfile, fieldnames = csv_columns)\n",
    "        writer.writeheader()\n",
    "        for data in stats_2017:\n",
    "            writer.writerow(data)\n",
    "except IOError:\n",
    "    print(\"I/O error\")"
   ]
  },
  {
   "cell_type": "code",
   "execution_count": 13,
   "metadata": {},
   "outputs": [],
   "source": [
    "stats_2018 = client.players_season_totals(season_end_year=2018)\n",
    "csv_columns = ['attempted_three_point_field_goals', 'blocks', 'slug', 'personal_fouls',\n",
    "               'made_three_point_field_goals', 'attempted_field_goals', 'made_free_throws',\n",
    "               'name', 'minutes_played', 'turnovers', 'positions', 'made_field_goals', 'games_started',\n",
    "               'age', 'steals', 'team', 'points', 'attempted_free_throws',\n",
    "               'games_played', 'assists', 'offensive_rebounds', 'defensive_rebounds']\n",
    "\n",
    "csv_file = \"stats_2018.csv\"\n",
    "try:\n",
    "    with open(csv_file, 'w') as csvfile:\n",
    "        writer = csv.DictWriter(csvfile, fieldnames = csv_columns)\n",
    "        writer.writeheader()\n",
    "        for data in stats_2018:\n",
    "            writer.writerow(data)\n",
    "except IOError:\n",
    "    print(\"I/O error\")"
   ]
  },
  {
   "cell_type": "code",
   "execution_count": null,
   "metadata": {},
   "outputs": [],
   "source": []
  }
 ],
 "metadata": {
  "kernelspec": {
   "display_name": "Python 3",
   "language": "python",
   "name": "python3"
  },
  "language_info": {
   "codemirror_mode": {
    "name": "ipython",
    "version": 3
   },
   "file_extension": ".py",
   "mimetype": "text/x-python",
   "name": "python",
   "nbconvert_exporter": "python",
   "pygments_lexer": "ipython3",
   "version": "3.6.9"
  }
 },
 "nbformat": 4,
 "nbformat_minor": 2
}
